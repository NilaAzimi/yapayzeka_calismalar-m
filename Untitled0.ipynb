{
  "nbformat": 4,
  "nbformat_minor": 0,
  "metadata": {
    "colab": {
      "provenance": []
    },
    "kernelspec": {
      "name": "python3",
      "display_name": "Python 3"
    },
    "language_info": {
      "name": "python"
    }
  },
  "cells": [
    {
      "cell_type": "markdown",
      "source": [
        "iGÜ MYO YZ dersi 30.09.2024 - ders Notu\n",
        "\n"
      ],
      "metadata": {
        "id": "xOSOtLolCLVA"
      }
    },
    {
      "cell_type": "markdown",
      "source": [
        "öğre4nci nila azimi\n"
      ],
      "metadata": {
        "id": "aiKTwZkBCeUP"
      }
    },
    {
      "cell_type": "code",
      "execution_count": 2,
      "metadata": {
        "colab": {
          "base_uri": "https://localhost:8080/"
        },
        "id": "s2GamgxXBZNw",
        "outputId": "55655e55-590e-4f77-fcca-18b7e81bfa34"
      },
      "outputs": [
        {
          "output_type": "stream",
          "name": "stdout",
          "text": [
            "merhaba IGU MYO YZ\n"
          ]
        }
      ],
      "source": [
        "print(\"merhaba IGU MYO YZ\") # ilk python programı çıktısıdır."
      ]
    },
    {
      "cell_type": "code",
      "source": [
        "import sys # import pyton programlama dilinde yazılıma kütüphane eklemeye yarayana kod .\n",
        "print (sys.version)"
      ],
      "metadata": {
        "colab": {
          "base_uri": "https://localhost:8080/"
        },
        "id": "ySKFspSmGVfe",
        "outputId": "05386508-dd78-4580-fab4-3ddb4ca663ff"
      },
      "execution_count": 5,
      "outputs": [
        {
          "output_type": "stream",
          "name": "stdout",
          "text": [
            "3.10.12 (main, Sep 11 2024, 15:47:36) [GCC 11.4.0]\n"
          ]
        }
      ]
    },
    {
      "cell_type": "code",
      "source": [
        "from google.colab import drive # google colab - drive bağlantısı\n",
        "drive.mount('/content/drive')"
      ],
      "metadata": {
        "colab": {
          "base_uri": "https://localhost:8080/"
        },
        "id": "rvM9vf7YHBS0",
        "outputId": "4999c8bb-0a6c-4ec7-d4f9-5f999e707a3c"
      },
      "execution_count": 9,
      "outputs": [
        {
          "output_type": "stream",
          "name": "stdout",
          "text": [
            "Mounted at /content/drive\n"
          ]
        }
      ]
    },
    {
      "cell_type": "code",
      "source": [
        "import os\n",
        "os.chdir('/content/drive/My Drive/YZIGU')\n",
        "! pwfd # bize kodun çıktısını dosya yolu olarak veren kod blogudur."
      ],
      "metadata": {
        "colab": {
          "base_uri": "https://localhost:8080/"
        },
        "id": "5BnRuPM5IWXx",
        "outputId": "6ced436c-e7eb-4e6d-94f6-eae830546c9f"
      },
      "execution_count": 12,
      "outputs": [
        {
          "output_type": "stream",
          "name": "stdout",
          "text": [
            "/bin/bash: line 1: pwfd: command not found\n"
          ]
        }
      ]
    }
  ]
}